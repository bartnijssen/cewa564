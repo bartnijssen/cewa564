{
 "cells": [
  {
   "cell_type": "markdown",
   "metadata": {},
   "source": [
    "# Demo: SUMMA"
   ]
  },
  {
   "cell_type": "markdown",
   "metadata": {},
   "source": [
    "# A. Introduction\n",
    "\n",
    "These demos assume that you have some basic knowledge of python and Jupyter notebooks, because we will be using a python package called `pysumma` to manipulate SUMMA simulations. If that is not the case, then start with learning a little bit about python and Jupyter notebooks. Excellent resources for this exist online. One place to start is [this tutorial](http://python.berkeley.edu/learn/) from Python Practice at Berkeley, but there are many others. \n",
    "\n",
    "... (standing by while you are learning python, etc.) ...\n",
    "\n",
    "Now that you know how to access the virtual machine and have gone through some Jupyter and python tutorials, let's move to the real topic of this course, which is hydrological modeling. In Demo 1 you will run through a number of exercises using SUMMA as your hydrology model. You will interact with SUMMA using a python module called `pysumma` using model configurations that I will provide for you. One of the nice things about running all this using the cloud instances provided by [Pangio](http://pangeo.io/) is that you don't need to install anything locally and that you only need access to a web browser. All the software that you will need to run the exercises is pre-installed in this virtual machine.\n",
    "\n",
    "The demos consist of a series of notebooks for you to work through:\n",
    "\n",
    "* `demo_a_introduction.ipynb` : a brief introduction to SUMMA, `pysumma`, and how to download data that you can use for these demos. \n",
    "\n",
    "* `demo_b_example.ipynb` : run through an example using SUMMA and `pysumma` and reproduce a lot from the original SUMMA papers."
   ]
  },
  {
   "cell_type": "markdown",
   "metadata": {},
   "source": [
    "You will want to save your notebooks in a place other than the `cewa564` directory tree, because files you save there may be deleted and overwritten when you update your git repository. In the following, I will assume that you create a `work` directory in your `home` directory (so `/home/jovyan/work`) and that you will save your copies of these notebooks there. So before you continue, create a `work` directory (if there isn't one) and save this file somewhere in that `work` directory tree: `work/demos` would be a great place for them. So click on \"_File --> Save Notebook As..._\" and save this notebook as `work/demos/demo_1_a_introduction.ipynb` before you continue. If things go hopelessly wrong, you can always start over again with the original notebook in your `cewa564` directory tree."
   ]
  },
  {
   "cell_type": "markdown",
   "metadata": {},
   "source": [
    "## SUMMA\n",
    "\n",
    "SUMMA itself has been introduced and discussed in class and one of the SUMMA introductory papers is one of your class readings. SUMMA is described in two papers by _Clark et al._ in 2015:\n",
    "\n",
    "* Clark, M. P., B. Nijssen, J. Lundquist, D. Kavetski, D. Rupp, R. Woods, J. Freer, E. Gutmann, A. Wood, L. Brekke, J. Arnold, D. Gochis, R. Rasmussen, 2015: A unified approach for process-based hydrologic modeling: Part 1. Modeling concept. _Water Resources Research_, [doi:10.1002/2015WR017198](http://doi.org/10.1002/2015WR017198).\n",
    "\n",
    "* Clark, M. P., B. Nijssen, J. Lundquist, D. Kavetski, D. Rupp, R. Woods, J. Freer, E. Gutmann, A. Wood, D. Gochis, R. Rasmussen, D. Tarboton, V. Mahat, G. Flerchinger, D. Marks, 2015: A unified approach for process-based hydrologic modeling: Part 2. Model implementation and case studies. _Water Resources Research_, [doi:10.1002/2015WR017200](http://doi.org/10.1002/2015WR017200).\n",
    "\n",
    "SUMMA is written in Fortran and its source code is publically available on [GitHub](https://github.com/NCAR/summa). Documentation for SUMMA is a work in progress and is also available on the web on [readthedocs](https://summa.readthedocs.io). Like most open source documentation, the SUMMA documentation, as well as the SUMMA and pysumma codes, are a work in progress.\n",
    "\n",
    "Because it can be somewhat challenging to install SUMMA on your local machine (it is easy on unix-based machines, including macs), we have pre-installed SUMMA in this virtual machine. SUMMA is installed in `/srv/repo/summa/bin/summa.exe`. The SUMMA executable is installed as `/srv/repo/summa/bin/summa.exe` and the SUMMA source code can be found in `/srv/repo/summa/build/source/`. We'll show you in the next few notebooks how to run SUMMA directly from your Jupyter notebooks."
   ]
  },
  {
   "cell_type": "markdown",
   "metadata": {},
   "source": [
    "## `pysumma`\n",
    "\n",
    "Because SUMMA can be a little daunting to interact with the first time (there is no GUI and there are many settings and input files), we have created a python package called `pysumma` that hides some of this detail from you and let's you interact with the model more easily. Basically, it allows you to manipulate the input and configuration files, run the model, and do some of the analysis.\n",
    "\n",
    "Most of the credit for creating this package goes to the [Hydroinformatics Research Group at the University of Virginia](https://uvahydroinformatics.org/), in particular Jon Goodall, Youngdon Choi and Jeff Sadler. Andrew Bennett in the [UW Hydro | Computational Hydrology](http://hydro.washington.edu) is also an active contributor. The code for the `pysumma` is available on their [GitHub site](https://github.com/uva-hydroinformatics/pysumma). Because `pysumma` is still a work in progress, we are using a slightly modified version for this course. Like the SUMMA model itself, the `pysumma` package is already pre-installed in this virtual machine. "
   ]
  },
  {
   "cell_type": "markdown",
   "metadata": {},
   "source": [
    "To use a package in python, all you have to do is `import` that package into your current workspace (provided that package is installed on your machine). So in this case (remember to use `Shift-Enter` to execute a code cell in a Jupyter notebook):"
   ]
  },
  {
   "cell_type": "code",
   "execution_count": null,
   "metadata": {},
   "outputs": [],
   "source": [
    "import pysumma as ps"
   ]
  },
  {
   "cell_type": "markdown",
   "metadata": {},
   "source": [
    "If there is no response when you execute this code, then it means that `pysumma` was imported correctly. You only need to do this once in your notebook (once during each session, when you reopen the notebook you need to do it again). Importing the package as `ps` allows us to use the shorthand `ps` when we want to access the contents of the pac\n",
    "\n",
    "In practice this is not how we typically import `pysumma`. There are specific elements of the `pysumma` package that we will import directly as we will show in the example in the next notebook. \\We'll go into more detail in the example notebook."
   ]
  },
  {
   "cell_type": "markdown",
   "metadata": {},
   "source": [
    "## On to the next step"
   ]
  },
  {
   "cell_type": "markdown",
   "metadata": {},
   "source": [
    "That's it for the introduction.  Save this notebook and close the tab. You can also right-click on the file in the left panel if it has a green dot next to it and select \"_Shutdown kernel_\" from the popup menu to stop the python session that is executing the commands in this notebook. Then open the next notebook: `demo_1_b_example.ipynb`."
   ]
  },
  {
   "cell_type": "code",
   "execution_count": null,
   "metadata": {},
   "outputs": [],
   "source": []
  }
 ],
 "metadata": {
  "kernelspec": {
   "display_name": "Python 3",
   "language": "python",
   "name": "python3"
  },
  "language_info": {
   "codemirror_mode": {
    "name": "ipython",
    "version": 3
   },
   "file_extension": ".py",
   "mimetype": "text/x-python",
   "name": "python",
   "nbconvert_exporter": "python",
   "pygments_lexer": "ipython3",
   "version": "3.7.1"
  }
 },
 "nbformat": 4,
 "nbformat_minor": 2
}
